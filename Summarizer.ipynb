{
 "cells": [
  {
   "cell_type": "code",
   "execution_count": null,
   "id": "b031c185",
   "metadata": {},
   "outputs": [],
   "source": [
    "pip install youtube_transcript_api"
   ]
  },
  {
   "cell_type": "code",
   "execution_count": 6,
   "id": "06c7b932",
   "metadata": {},
   "outputs": [],
   "source": [
    "video = \"https://www.youtube.com/watch?v=OFPwDe22CoY\" #This video has Transcript"
   ]
  },
  {
   "cell_type": "code",
   "execution_count": 4,
   "id": "7da883b7",
   "metadata": {},
   "outputs": [],
   "source": [
    "# video = \"https://www.youtube.com/watch?v=ULEQb_l-N08\" #This video does not have Transcript"
   ]
  },
  {
   "cell_type": "code",
   "execution_count": 7,
   "id": "35add9fa",
   "metadata": {},
   "outputs": [
    {
     "data": {
      "text/plain": [
       "'OFPwDe22CoY'"
      ]
     },
     "execution_count": 7,
     "metadata": {},
     "output_type": "execute_result"
    }
   ],
   "source": [
    "id = video.split(\"=\")[1]\n",
    "id"
   ]
  },
  {
   "cell_type": "code",
   "execution_count": 8,
   "id": "2b0da483",
   "metadata": {
    "collapsed": true
   },
   "outputs": [
    {
     "data": {
      "image/jpeg": "[encoded data removed]",
      "text/html": [
       "\n",
       "        <iframe\n",
       "            width=\"400\"\n",
       "            height=\"300\"\n",
       "            src=\"https://www.youtube.com/embed/OFPwDe22CoY\"\n",
       "            frameborder=\"0\"\n",
       "            allowfullscreen\n",
       "        ></iframe>\n",
       "        "
      ],
      "text/plain": [
       "<IPython.lib.display.YouTubeVideo at 0x1f290eb6160>"
      ]
     },
     "execution_count": 8,
     "metadata": {},
     "output_type": "execute_result"
    }
   ],
   "source": [
    "from IPython.display import YouTubeVideo as yt\n",
    "yt(id)"
   ]
  },
  {
   "cell_type": "markdown",
   "id": "f33bfc40",
   "metadata": {},
   "source": [
    "# Getting Transcript"
   ]
  },
  {
   "cell_type": "code",
   "execution_count": 1,
   "id": "aac1b1ec",
   "metadata": {},
   "outputs": [],
   "source": [
    "# from youtube_transcript_api import YouTubeTranscriptApi as api\n",
    "# transcript = api.get_transcript(id)"
   ]
  },
  {
   "cell_type": "code",
   "execution_count": 2,
   "id": "79bed11a",
   "metadata": {},
   "outputs": [],
   "source": [
    "# transcript[:5]"
   ]
  },
  {
   "cell_type": "code",
   "execution_count": 3,
   "id": "0ce9b2db",
   "metadata": {},
   "outputs": [],
   "source": [
    "# transcript_text = \"\"\n",
    "# for i in transcript:\n",
    "#     transcript_text += ' ' + i['text']\n",
    "# print(len(transcript_text))"
   ]
  },
  {
   "cell_type": "markdown",
   "id": "452e4be5",
   "metadata": {},
   "source": [
    "# Summarization"
   ]
  },
  {
   "cell_type": "code",
   "execution_count": 49,
   "id": "fc363152",
   "metadata": {
    "collapsed": true
   },
   "outputs": [
    {
     "name": "stdout",
     "output_type": "stream",
     "text": [
      "^C\n",
      "Note: you may need to restart the kernel to use updated packages.\n"
     ]
    }
   ],
   "source": [
    "pip install transformers"
   ]
  },
  {
   "cell_type": "code",
   "execution_count": 10,
   "id": "91bc0f45",
   "metadata": {},
   "outputs": [],
   "source": [
    "from transformers import pipeline"
   ]
  },
  {
   "cell_type": "code",
   "execution_count": 8,
   "id": "fac1040a",
   "metadata": {
    "collapsed": true
   },
   "outputs": [
    {
     "name": "stdout",
     "output_type": "stream",
     "text": [
      "Requirement already satisfied: torch in c:\\users\\dgp26_000\\anaconda3\\lib\\site-packages (1.11.0)\n",
      "Requirement already satisfied: typing-extensions in c:\\users\\dgp26_000\\anaconda3\\lib\\site-packages (from torch) (3.7.4.3)\n",
      "Note: you may need to restart the kernel to use updated packages.\n"
     ]
    }
   ],
   "source": [
    "pip install torch"
   ]
  },
  {
   "cell_type": "code",
   "execution_count": 12,
   "id": "4c892d69",
   "metadata": {
    "collapsed": true
   },
   "outputs": [
    {
     "name": "stderr",
     "output_type": "stream",
     "text": [
      "No model was supplied, defaulted to sshleifer/distilbart-cnn-12-6 (https://huggingface.co/sshleifer/distilbart-cnn-12-6)\n"
     ]
    }
   ],
   "source": [
    "summarizer = pipeline('summarization')"
   ]
  },
  {
   "cell_type": "code",
   "execution_count": 16,
   "id": "5817d345",
   "metadata": {
    "scrolled": true
   },
   "outputs": [
    {
     "name": "stderr",
     "output_type": "stream",
     "text": [
      "Your max_length is set to 142, but you input_length is only 84. You might consider decreasing max_length manually, e.g. summarizer('...', max_length=42)\n"
     ]
    }
   ],
   "source": [
    "num_iterations = int(len(transcript_text)/1000)\n",
    "summarized_text = \"\"\n",
    "for i in range(0, num_iterations + 1):\n",
    "    start = i*1000\n",
    "    end = (i+1)*1000\n",
    "    out = summarizer(transcript_text[start:end])\n",
    "    out = out[0]\n",
    "    out = out['summary_text']\n",
    "    summarized_text += out"
   ]
  },
  {
   "cell_type": "code",
   "execution_count": 17,
   "id": "7950e522",
   "metadata": {
    "collapsed": true
   },
   "outputs": [
    {
     "name": "stdout",
     "output_type": "stream",
     "text": [
      "1752\n"
     ]
    }
   ],
   "source": [
    "print(len(summarized_text))"
   ]
  },
  {
   "cell_type": "code",
   "execution_count": 19,
   "id": "17a0b229",
   "metadata": {
    "collapsed": true
   },
   "outputs": [
    {
     "name": "stdout",
     "output_type": "stream",
     "text": [
      " Barack Obama in 2004 was totally unknown people were saying I don't know who this guy is wonder why they picked him he had interpretation as a bit of an upstart as sort of a young rising figure in the party . Barack Obama's grandfather fought in World War two use the GI Bill a settlement in Kansas so white people could say huh oh he's just like us . Obama's speeches are an antidote to that alongside our famous individualism, there's another ingredient in the American saga a belief that we're all connected as one people . He gives a speech that priests ages his entire political message of 2008 which is the serve post-partisan argument now even as we speak there are those who are . Obama was born with two great gifts that one is his mind and the other is his ability to speak to large groups of people . There is not a liberal America or a conservative America there is the United States of America . We worship an awesome God in the blue states and we don't like federal agents poking around in our libraries in the red states . The election is about do we participate in a politics of cynicism or do we . participate in an election of hope it's the hope of slaves sitting around a fire singing freedom songs . legiance to the Stars and Stripes all of us defending the United States of America the way he used his hands he actually points a lot does a lot . John Kerry's best speech of the convention was electrifying and without it he wouldn't be President . I believe this country will reclaim its promise and out of this long political darkness a brighter day will come thank you very much everybody . I think sincerity means a lot there are people who speak that they speak the truth as they see it and they're very effective doing that .\n"
     ]
    }
   ],
   "source": [
    "print(summarized_text)"
   ]
  }
 ],
 "metadata": {
  "kernelspec": {
   "display_name": "Python 3 (ipykernel)",
   "language": "python",
   "name": "python3"
  },
  "language_info": {
   "codemirror_mode": {
    "name": "ipython",
    "version": 3
   },
   "file_extension": ".py",
   "mimetype": "text/x-python",
   "name": "python",
   "nbconvert_exporter": "python",
   "pygments_lexer": "ipython3",
   "version": "3.9.12"
  }
 },
 "nbformat": 4,
 "nbformat_minor": 5
}
